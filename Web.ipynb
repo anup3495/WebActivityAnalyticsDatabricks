{
 "cells": [
  {
   "cell_type": "code",
   "execution_count": 0,
   "metadata": {
    "application/vnd.databricks.v1+cell": {
     "cellMetadata": {
      "byteLimit": 2048000,
      "rowLimit": 10000
     },
     "inputWidgets": {},
     "nuid": "87f59248-5e81-4f20-b564-ec6d6b18052d",
     "showTitle": false,
     "title": ""
    }
   },
   "outputs": [],
   "source": [
    "from datetime import datetime\n",
    "import pandas as pd\n",
    "from pyspark.sql import SparkSession\n",
    "\n",
    "# Create a Spark session\n",
    "spark = SparkSession.builder.appName(\"WebActivityAnalytics\").getOrCreate()\n",
    "\n",
    "# Generate sample data\n",
    "data = {\n",
    "    'user_id': [1, 2, 1, 3, 2],\n",
    "    'timestamp': [datetime(2022, 1, 1), datetime(2022, 1, 1), datetime(2022, 1, 2), datetime(2022, 1, 2), datetime(2022, 1, 3)],\n",
    "    'page_visited': ['home', 'product', 'home', 'product', 'contact']\n",
    "}\n",
    "\n",
    "df = spark.createDataFrame(pd.DataFrame(data))\n",
    "\n",
    "# Save data to Parquet format for persistence\n",
    "df.write.mode('overwrite').parquet(\"/mnt/databricks/sample_data.parquet\")\n"
   ]
  },
  {
   "cell_type": "code",
   "execution_count": 0,
   "metadata": {
    "application/vnd.databricks.v1+cell": {
     "cellMetadata": {
      "byteLimit": 2048000,
      "rowLimit": 10000
     },
     "inputWidgets": {},
     "nuid": "047b6f3d-2e5e-48c0-9d74-1799740c7db5",
     "showTitle": false,
     "title": ""
    }
   },
   "outputs": [
    {
     "output_type": "stream",
     "name": "stdout",
     "output_type": "stream",
     "text": [
      "+-------+-------------------+------------+\n|user_id|          timestamp|page_visited|\n+-------+-------------------+------------+\n|      1|2022-01-01 00:00:00|        home|\n|      2|2022-01-01 00:00:00|     product|\n|      1|2022-01-02 00:00:00|        home|\n|      3|2022-01-02 00:00:00|     product|\n|      2|2022-01-03 00:00:00|     contact|\n+-------+-------------------+------------+\n\n+-------+------------------+------------+\n|summary|           user_id|page_visited|\n+-------+------------------+------------+\n|  count|                 5|           5|\n|   mean|               1.8|        NULL|\n| stddev|0.8366600265340756|        NULL|\n|    min|                 1|     contact|\n|    max|                 3|     product|\n+-------+------------------+------------+\n\n+-------+-------------------+------------+\n|user_id|          timestamp|page_visited|\n+-------+-------------------+------------+\n|      1|2022-01-01 00:00:00|        home|\n|      2|2022-01-01 00:00:00|     product|\n|      1|2022-01-02 00:00:00|        home|\n|      3|2022-01-02 00:00:00|     product|\n|      2|2022-01-03 00:00:00|     contact|\n+-------+-------------------+------------+\n\n+-------+-------------------+------------+\n|user_id|          timestamp|page_visited|\n+-------+-------------------+------------+\n|      1|2022-01-01 00:00:00|        home|\n|      2|2022-01-01 00:00:00|     product|\n|      1|2022-01-02 00:00:00|        home|\n|      3|2022-01-02 00:00:00|     product|\n|      2|2022-01-03 00:00:00|     contact|\n+-------+-------------------+------------+\n\n"
     ]
    }
   ],
   "source": [
    "# Show the first few rows of the DataFrame\n",
    "df.show()\n",
    "\n",
    "# Display summary statistics\n",
    "df.describe().show()\n",
    "\n",
    "# Check for missing values\n",
    "df.na.drop().show()\n",
    "\n",
    "# Check for duplicate records\n",
    "df.dropDuplicates().show()\n"
   ]
  },
  {
   "cell_type": "code",
   "execution_count": 0,
   "metadata": {
    "application/vnd.databricks.v1+cell": {
     "cellMetadata": {
      "byteLimit": 2048000,
      "rowLimit": 10000
     },
     "inputWidgets": {},
     "nuid": "7fad9d8a-2ece-426d-ba9e-61014868f134",
     "showTitle": false,
     "title": ""
    }
   },
   "outputs": [
    {
     "output_type": "display_data",
     "data": {
      "text/plain": [
       "\u001B[0;31m---------------------------------------------------------------------------\u001B[0m\n",
       "\u001B[0;31mNameError\u001B[0m                                 Traceback (most recent call last)\n",
       "File \u001B[0;32m<command-2165825361569193>, line 17\u001B[0m\n",
       "\u001B[1;32m     14\u001B[0m small_df \u001B[38;5;241m=\u001B[39m df\u001B[38;5;241m.\u001B[39mselect(\u001B[38;5;124m'\u001B[39m\u001B[38;5;124muser_id\u001B[39m\u001B[38;5;124m'\u001B[39m)\u001B[38;5;241m.\u001B[39mdistinct()\n",
       "\u001B[1;32m     16\u001B[0m \u001B[38;5;66;03m# Perform a broadcast join\u001B[39;00m\n",
       "\u001B[0;32m---> 17\u001B[0m df_joined \u001B[38;5;241m=\u001B[39m df\u001B[38;5;241m.\u001B[39mjoin(broadcast(small_df), \u001B[38;5;124m'\u001B[39m\u001B[38;5;124muser_id\u001B[39m\u001B[38;5;124m'\u001B[39m, \u001B[38;5;124m'\u001B[39m\u001B[38;5;124minner\u001B[39m\u001B[38;5;124m'\u001B[39m)\n",
       "\n",
       "\u001B[0;31mNameError\u001B[0m: name 'broadcast' is not defined"
      ]
     },
     "metadata": {
      "application/vnd.databricks.v1+output": {
       "arguments": {},
       "data": "\u001B[0;31m---------------------------------------------------------------------------\u001B[0m\n\u001B[0;31mNameError\u001B[0m                                 Traceback (most recent call last)\nFile \u001B[0;32m<command-2165825361569193>, line 17\u001B[0m\n\u001B[1;32m     14\u001B[0m small_df \u001B[38;5;241m=\u001B[39m df\u001B[38;5;241m.\u001B[39mselect(\u001B[38;5;124m'\u001B[39m\u001B[38;5;124muser_id\u001B[39m\u001B[38;5;124m'\u001B[39m)\u001B[38;5;241m.\u001B[39mdistinct()\n\u001B[1;32m     16\u001B[0m \u001B[38;5;66;03m# Perform a broadcast join\u001B[39;00m\n\u001B[0;32m---> 17\u001B[0m df_joined \u001B[38;5;241m=\u001B[39m df\u001B[38;5;241m.\u001B[39mjoin(broadcast(small_df), \u001B[38;5;124m'\u001B[39m\u001B[38;5;124muser_id\u001B[39m\u001B[38;5;124m'\u001B[39m, \u001B[38;5;124m'\u001B[39m\u001B[38;5;124minner\u001B[39m\u001B[38;5;124m'\u001B[39m)\n\n\u001B[0;31mNameError\u001B[0m: name 'broadcast' is not defined",
       "errorSummary": "<span class='ansi-red-fg'>NameError</span>: name 'broadcast' is not defined",
       "errorTraceType": "ansi",
       "metadata": {},
       "type": "ipynbError"
      }
     },
     "output_type": "display_data"
    }
   ],
   "source": [
    "# Optimize schema by choosing appropriate data types\n",
    "df = df.withColumn(\"user_id\", df[\"user_id\"].cast(\"integer\"))\n",
    "\n",
    "# Optimize storage and retrieval by partitioning\n",
    "df.write.mode('overwrite').partitionBy(\"timestamp\").parquet(\"/mnt/databricks/partitioned_data.parquet\")\n",
    "\n",
    "# Cache the DataFrame\n",
    "df.cache()\n",
    "\n",
    "# Perform operations on the cached DataFrame\n",
    "df_filtered = df.filter(df['page_visited'] == 'home')\n",
    "\n",
    "# Create a small DataFrame to be broadcasted\n",
    "small_df = df.select('user_id').distinct()\n",
    "\n",
    "# Perform a broadcast join\n",
    "df_joined = df.join(broadcast(small_df), 'user_id', 'inner')\n"
   ]
  },
  {
   "cell_type": "code",
   "execution_count": 0,
   "metadata": {
    "application/vnd.databricks.v1+cell": {
     "cellMetadata": {
      "byteLimit": 2048000,
      "rowLimit": 10000
     },
     "inputWidgets": {},
     "nuid": "078d6b6f-9b21-4986-8481-ba945a77224c",
     "showTitle": false,
     "title": ""
    }
   },
   "outputs": [
    {
     "output_type": "display_data",
     "data": {
      "text/plain": [
       "\u001B[0;31m---------------------------------------------------------------------------\u001B[0m\n",
       "\u001B[0;31mNameError\u001B[0m                                 Traceback (most recent call last)\n",
       "File \u001B[0;32m<command-2165825361569194>, line 2\u001B[0m\n",
       "\u001B[1;32m      1\u001B[0m \u001B[38;5;66;03m# Aggregate user activity metrics\u001B[39;00m\n",
       "\u001B[0;32m----> 2\u001B[0m activity_metrics \u001B[38;5;241m=\u001B[39m df\u001B[38;5;241m.\u001B[39mgroupBy(\u001B[38;5;124m'\u001B[39m\u001B[38;5;124muser_id\u001B[39m\u001B[38;5;124m'\u001B[39m)\u001B[38;5;241m.\u001B[39magg(count(\u001B[38;5;124m'\u001B[39m\u001B[38;5;124mpage_visited\u001B[39m\u001B[38;5;124m'\u001B[39m)\u001B[38;5;241m.\u001B[39malias(\u001B[38;5;124m'\u001B[39m\u001B[38;5;124mpage_views\u001B[39m\u001B[38;5;124m'\u001B[39m))\n",
       "\u001B[1;32m      4\u001B[0m \u001B[38;5;66;03m# Perform time-based analysis\u001B[39;00m\n",
       "\u001B[1;32m      5\u001B[0m \u001B[38;5;28;01mfrom\u001B[39;00m \u001B[38;5;21;01mpyspark\u001B[39;00m\u001B[38;5;21;01m.\u001B[39;00m\u001B[38;5;21;01msql\u001B[39;00m\u001B[38;5;21;01m.\u001B[39;00m\u001B[38;5;21;01mfunctions\u001B[39;00m \u001B[38;5;28;01mimport\u001B[39;00m hour\n",
       "\n",
       "\u001B[0;31mNameError\u001B[0m: name 'count' is not defined"
      ]
     },
     "metadata": {
      "application/vnd.databricks.v1+output": {
       "arguments": {},
       "data": "\u001B[0;31m---------------------------------------------------------------------------\u001B[0m\n\u001B[0;31mNameError\u001B[0m                                 Traceback (most recent call last)\nFile \u001B[0;32m<command-2165825361569194>, line 2\u001B[0m\n\u001B[1;32m      1\u001B[0m \u001B[38;5;66;03m# Aggregate user activity metrics\u001B[39;00m\n\u001B[0;32m----> 2\u001B[0m activity_metrics \u001B[38;5;241m=\u001B[39m df\u001B[38;5;241m.\u001B[39mgroupBy(\u001B[38;5;124m'\u001B[39m\u001B[38;5;124muser_id\u001B[39m\u001B[38;5;124m'\u001B[39m)\u001B[38;5;241m.\u001B[39magg(count(\u001B[38;5;124m'\u001B[39m\u001B[38;5;124mpage_visited\u001B[39m\u001B[38;5;124m'\u001B[39m)\u001B[38;5;241m.\u001B[39malias(\u001B[38;5;124m'\u001B[39m\u001B[38;5;124mpage_views\u001B[39m\u001B[38;5;124m'\u001B[39m))\n\u001B[1;32m      4\u001B[0m \u001B[38;5;66;03m# Perform time-based analysis\u001B[39;00m\n\u001B[1;32m      5\u001B[0m \u001B[38;5;28;01mfrom\u001B[39;00m \u001B[38;5;21;01mpyspark\u001B[39;00m\u001B[38;5;21;01m.\u001B[39;00m\u001B[38;5;21;01msql\u001B[39;00m\u001B[38;5;21;01m.\u001B[39;00m\u001B[38;5;21;01mfunctions\u001B[39;00m \u001B[38;5;28;01mimport\u001B[39;00m hour\n\n\u001B[0;31mNameError\u001B[0m: name 'count' is not defined",
       "errorSummary": "<span class='ansi-red-fg'>NameError</span>: name 'count' is not defined",
       "errorTraceType": "ansi",
       "metadata": {},
       "type": "ipynbError"
      }
     },
     "output_type": "display_data"
    }
   ],
   "source": [
    "# Aggregate user activity metrics\n",
    "activity_metrics = df.groupBy('user_id').agg(count('page_visited').alias('page_views'))\n",
    "\n",
    "# Perform time-based analysis\n",
    "from pyspark.sql.functions import hour\n",
    "time_analysis = df.groupBy(hour('timestamp').alias('hour')).agg(count('*').alias('activity_count'))\n"
   ]
  },
  {
   "cell_type": "code",
   "execution_count": 0,
   "metadata": {
    "application/vnd.databricks.v1+cell": {
     "cellMetadata": {
      "byteLimit": 2048000,
      "rowLimit": 10000
     },
     "inputWidgets": {},
     "nuid": "76e9559a-09cf-4814-a61c-bc9ddd077b8d",
     "showTitle": false,
     "title": ""
    }
   },
   "outputs": [
    {
     "output_type": "display_data",
     "data": {
      "text/plain": [
       "\u001B[0;31m---------------------------------------------------------------------------\u001B[0m\n",
       "\u001B[0;31mNameError\u001B[0m                                 Traceback (most recent call last)\n",
       "File \u001B[0;32m<command-2165825361569195>, line 4\u001B[0m\n",
       "\u001B[1;32m      1\u001B[0m \u001B[38;5;28;01mimport\u001B[39;00m \u001B[38;5;21;01mmatplotlib\u001B[39;00m\u001B[38;5;21;01m.\u001B[39;00m\u001B[38;5;21;01mpyplot\u001B[39;00m \u001B[38;5;28;01mas\u001B[39;00m \u001B[38;5;21;01mplt\u001B[39;00m\n",
       "\u001B[1;32m      3\u001B[0m \u001B[38;5;66;03m# Create a bar chart using Matplotlib\u001B[39;00m\n",
       "\u001B[0;32m----> 4\u001B[0m activity_metrics_pd \u001B[38;5;241m=\u001B[39m activity_metrics\u001B[38;5;241m.\u001B[39mtoPandas()\n",
       "\u001B[1;32m      5\u001B[0m plt\u001B[38;5;241m.\u001B[39mbar(activity_metrics_pd[\u001B[38;5;124m'\u001B[39m\u001B[38;5;124muser_id\u001B[39m\u001B[38;5;124m'\u001B[39m], activity_metrics_pd[\u001B[38;5;124m'\u001B[39m\u001B[38;5;124mpage_views\u001B[39m\u001B[38;5;124m'\u001B[39m])\n",
       "\u001B[1;32m      6\u001B[0m plt\u001B[38;5;241m.\u001B[39mshow()\n",
       "\n",
       "\u001B[0;31mNameError\u001B[0m: name 'activity_metrics' is not defined"
      ]
     },
     "metadata": {
      "application/vnd.databricks.v1+output": {
       "arguments": {},
       "data": "\u001B[0;31m---------------------------------------------------------------------------\u001B[0m\n\u001B[0;31mNameError\u001B[0m                                 Traceback (most recent call last)\nFile \u001B[0;32m<command-2165825361569195>, line 4\u001B[0m\n\u001B[1;32m      1\u001B[0m \u001B[38;5;28;01mimport\u001B[39;00m \u001B[38;5;21;01mmatplotlib\u001B[39;00m\u001B[38;5;21;01m.\u001B[39;00m\u001B[38;5;21;01mpyplot\u001B[39;00m \u001B[38;5;28;01mas\u001B[39;00m \u001B[38;5;21;01mplt\u001B[39;00m\n\u001B[1;32m      3\u001B[0m \u001B[38;5;66;03m# Create a bar chart using Matplotlib\u001B[39;00m\n\u001B[0;32m----> 4\u001B[0m activity_metrics_pd \u001B[38;5;241m=\u001B[39m activity_metrics\u001B[38;5;241m.\u001B[39mtoPandas()\n\u001B[1;32m      5\u001B[0m plt\u001B[38;5;241m.\u001B[39mbar(activity_metrics_pd[\u001B[38;5;124m'\u001B[39m\u001B[38;5;124muser_id\u001B[39m\u001B[38;5;124m'\u001B[39m], activity_metrics_pd[\u001B[38;5;124m'\u001B[39m\u001B[38;5;124mpage_views\u001B[39m\u001B[38;5;124m'\u001B[39m])\n\u001B[1;32m      6\u001B[0m plt\u001B[38;5;241m.\u001B[39mshow()\n\n\u001B[0;31mNameError\u001B[0m: name 'activity_metrics' is not defined",
       "errorSummary": "<span class='ansi-red-fg'>NameError</span>: name 'activity_metrics' is not defined",
       "errorTraceType": "ansi",
       "metadata": {},
       "type": "ipynbError"
      }
     },
     "output_type": "display_data"
    }
   ],
   "source": [
    "import matplotlib.pyplot as plt\n",
    "\n",
    "# Create a bar chart using Matplotlib\n",
    "activity_metrics_pd = activity_metrics.toPandas()\n",
    "plt.bar(activity_metrics_pd['user_id'], activity_metrics_pd['page_views'])\n",
    "plt.show()\n"
   ]
  },
  {
   "cell_type": "code",
   "execution_count": 0,
   "metadata": {
    "application/vnd.databricks.v1+cell": {
     "cellMetadata": {},
     "inputWidgets": {},
     "nuid": "4703afac-e103-4257-be3a-73db5cba8a1c",
     "showTitle": false,
     "title": ""
    }
   },
   "outputs": [],
   "source": []
  }
 ],
 "metadata": {
  "application/vnd.databricks.v1+notebook": {
   "dashboards": [],
   "language": "python",
   "notebookMetadata": {
    "pythonIndentUnit": 4
   },
   "notebookName": "WebActivityAnalytics",
   "widgets": {}
  }
 },
 "nbformat": 4,
 "nbformat_minor": 0
}
